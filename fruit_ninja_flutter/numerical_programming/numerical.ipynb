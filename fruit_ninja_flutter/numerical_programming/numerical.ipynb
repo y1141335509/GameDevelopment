{
 "cells": [
  {
   "cell_type": "code",
   "execution_count": null,
   "metadata": {},
   "outputs": [],
   "source": []
  },
  {
   "cell_type": "code",
   "execution_count": 178,
   "metadata": {},
   "outputs": [],
   "source": [
    "import pandas as pd \n",
    "import numpy as np\n",
    "\n",
    "\n"
   ]
  },
  {
   "cell_type": "code",
   "execution_count": 179,
   "metadata": {},
   "outputs": [
    {
     "data": {
      "text/html": [
       "<div>\n",
       "<style scoped>\n",
       "    .dataframe tbody tr th:only-of-type {\n",
       "        vertical-align: middle;\n",
       "    }\n",
       "\n",
       "    .dataframe tbody tr th {\n",
       "        vertical-align: top;\n",
       "    }\n",
       "\n",
       "    .dataframe thead th {\n",
       "        text-align: right;\n",
       "    }\n",
       "</style>\n",
       "<table border=\"1\" class=\"dataframe\">\n",
       "  <thead>\n",
       "    <tr style=\"text-align: right;\">\n",
       "      <th></th>\n",
       "      <th>Unnamed: 0</th>\n",
       "      <th>water(g)</th>\n",
       "      <th>energy(kcal)</th>\n",
       "      <th>protein(g)</th>\n",
       "      <th>fat(g)</th>\n",
       "      <th>carb(g)</th>\n",
       "      <th>fiber(g)</th>\n",
       "      <th>sugar(g)</th>\n",
       "      <th>calcium(mg)</th>\n",
       "      <th>iron(mg)</th>\n",
       "      <th>...</th>\n",
       "      <th>copper(mg)</th>\n",
       "      <th>manganese(mg)</th>\n",
       "      <th>selenium(ug)</th>\n",
       "      <th>VC(mg)</th>\n",
       "      <th>VB(mg)</th>\n",
       "      <th>VA(ug)</th>\n",
       "      <th>VD(ug)</th>\n",
       "      <th>VK(ug)</th>\n",
       "      <th>caffeine(mg)</th>\n",
       "      <th>alcohol(mg)</th>\n",
       "    </tr>\n",
       "  </thead>\n",
       "  <tbody>\n",
       "    <tr>\n",
       "      <th>0</th>\n",
       "      <td>lower</td>\n",
       "      <td>500.0</td>\n",
       "      <td>1200.0</td>\n",
       "      <td>0.8</td>\n",
       "      <td>0.20</td>\n",
       "      <td>130.0</td>\n",
       "      <td>25.0</td>\n",
       "      <td>2.0</td>\n",
       "      <td>1000</td>\n",
       "      <td>8.0</td>\n",
       "      <td>...</td>\n",
       "      <td>0.9</td>\n",
       "      <td>1.80</td>\n",
       "      <td>55.0</td>\n",
       "      <td>75.0</td>\n",
       "      <td>1.00</td>\n",
       "      <td>700</td>\n",
       "      <td>15</td>\n",
       "      <td>75.00</td>\n",
       "      <td>1</td>\n",
       "      <td>1</td>\n",
       "    </tr>\n",
       "    <tr>\n",
       "      <th>1</th>\n",
       "      <td>upper</td>\n",
       "      <td>5000.0</td>\n",
       "      <td>2400.0</td>\n",
       "      <td>2.0</td>\n",
       "      <td>0.35</td>\n",
       "      <td>300.0</td>\n",
       "      <td>70.0</td>\n",
       "      <td>36.0</td>\n",
       "      <td>2500</td>\n",
       "      <td>45.0</td>\n",
       "      <td>...</td>\n",
       "      <td>10.0</td>\n",
       "      <td>11.00</td>\n",
       "      <td>400.0</td>\n",
       "      <td>2000.0</td>\n",
       "      <td>100.00</td>\n",
       "      <td>3000</td>\n",
       "      <td>100</td>\n",
       "      <td>120.00</td>\n",
       "      <td>400</td>\n",
       "      <td>30000</td>\n",
       "    </tr>\n",
       "    <tr>\n",
       "      <th>2</th>\n",
       "      <td>watermelon</td>\n",
       "      <td>4130.0</td>\n",
       "      <td>1360.0</td>\n",
       "      <td>27.6</td>\n",
       "      <td>6.78</td>\n",
       "      <td>341.0</td>\n",
       "      <td>18.1</td>\n",
       "      <td>280.0</td>\n",
       "      <td>316</td>\n",
       "      <td>10.8</td>\n",
       "      <td>...</td>\n",
       "      <td>1.9</td>\n",
       "      <td>1.72</td>\n",
       "      <td>18.1</td>\n",
       "      <td>366.0</td>\n",
       "      <td>2.03</td>\n",
       "      <td>1270</td>\n",
       "      <td>0</td>\n",
       "      <td>4.52</td>\n",
       "      <td>0</td>\n",
       "      <td>0</td>\n",
       "    </tr>\n",
       "  </tbody>\n",
       "</table>\n",
       "<p>3 rows × 25 columns</p>\n",
       "</div>"
      ],
      "text/plain": [
       "   Unnamed: 0  water(g)  energy(kcal)  protein(g)  fat(g)  carb(g)  fiber(g)  \\\n",
       "0       lower     500.0        1200.0         0.8    0.20    130.0      25.0   \n",
       "1       upper    5000.0        2400.0         2.0    0.35    300.0      70.0   \n",
       "2  watermelon    4130.0        1360.0        27.6    6.78    341.0      18.1   \n",
       "\n",
       "   sugar(g)  calcium(mg)  iron(mg)  ...  copper(mg)  manganese(mg)  \\\n",
       "0       2.0         1000       8.0  ...         0.9           1.80   \n",
       "1      36.0         2500      45.0  ...        10.0          11.00   \n",
       "2     280.0          316      10.8  ...         1.9           1.72   \n",
       "\n",
       "   selenium(ug)  VC(mg)  VB(mg)  VA(ug)  VD(ug)  VK(ug)  caffeine(mg)  \\\n",
       "0          55.0    75.0    1.00     700      15   75.00             1   \n",
       "1         400.0  2000.0  100.00    3000     100  120.00           400   \n",
       "2          18.1   366.0    2.03    1270       0    4.52             0   \n",
       "\n",
       "   alcohol(mg)  \n",
       "0            1  \n",
       "1        30000  \n",
       "2            0  \n",
       "\n",
       "[3 rows x 25 columns]"
      ]
     },
     "execution_count": 179,
     "metadata": {},
     "output_type": "execute_result"
    }
   ],
   "source": [
    "food_nutrition = pd.read_csv('./data/food_nutrition.csv')\n",
    "food_nutrition.head(3)"
   ]
  },
  {
   "cell_type": "code",
   "execution_count": 180,
   "metadata": {},
   "outputs": [
    {
     "name": "stdout",
     "output_type": "stream",
     "text": [
      "(4, 24)\n"
     ]
    }
   ],
   "source": [
    "M = food_nutrition[food_nutrition.columns[1:]][2:].to_numpy()   # remove the `name` column\n",
    "print(M.shape)"
   ]
  },
  {
   "cell_type": "code",
   "execution_count": 182,
   "metadata": {},
   "outputs": [
    {
     "name": "stdout",
     "output_type": "stream",
     "text": [
      "[20. 40. 56. 68. 76.]\n"
     ]
    },
    {
     "data": {
      "text/plain": [
       "(5,)"
      ]
     },
     "execution_count": 182,
     "metadata": {},
     "output_type": "execute_result"
    }
   ],
   "source": [
    "R = np.array([1, 1, 0.8, 0.6, 0.4])   # increment ratios at 20, 40, 60, 80, 100 seconds\n",
    "R = 20 * R.cumsum()\n",
    "print(R)\n",
    "R.shape"
   ]
  },
  {
   "cell_type": "code",
   "execution_count": 183,
   "metadata": {},
   "outputs": [
    {
     "name": "stdout",
     "output_type": "stream",
     "text": [
      " 时间点个数 x 食物种类 x 营养成分种类:  (5, 1, 24)\n"
     ]
    }
   ],
   "source": [
    "# U[?] is the upper limit of each nutrition fact at time ?\n",
    "\n",
    "U = []\n",
    "for i in range(len(R)):\n",
    "  U.append((1 + R[i]) * UPPER)\n",
    "\n",
    "U = np.array(U)\n",
    "# print(U)      # DEBUG\n",
    "print(' 时间点个数 x 食物种类 x 营养成分种类: ', U.shape )\n"
   ]
  },
  {
   "cell_type": "code",
   "execution_count": 184,
   "metadata": {},
   "outputs": [
    {
     "name": "stdout",
     "output_type": "stream",
     "text": [
      " 时间点个数 x 食物种类 x 营养成分种类:  (5, 1, 24)\n"
     ]
    }
   ],
   "source": [
    "# L[?] is the lower limit of each nutrition fact at time ?\n",
    "\n",
    "L = []\n",
    "for i in range(len(R)):\n",
    "  L.append((1 + R[i]) * LOWER)\n",
    "\n",
    "L = np.array(L)\n",
    "\n",
    "# print(L)      # DEBUG\n",
    "print(' 时间点个数 x 食物种类 x 营养成分种类: ', L.shape )\n"
   ]
  },
  {
   "cell_type": "code",
   "execution_count": 185,
   "metadata": {},
   "outputs": [
    {
     "name": "stdout",
     "output_type": "stream",
     "text": [
      "(5, 4)\n"
     ]
    },
    {
     "data": {
      "text/plain": [
       "array([[ 5,  5,  5,  5],\n",
       "       [10, 10, 10, 10],\n",
       "       [15, 15, 15, 15],\n",
       "       [20, 20, 20, 20],\n",
       "       [25, 25, 25, 25]])"
      ]
     },
     "execution_count": 185,
     "metadata": {},
     "output_type": "execute_result"
    }
   ],
   "source": [
    "# 假设每隔20秒，每种食物生成 X 个：\n",
    "\n",
    "X = 5\n",
    "G = np.reshape(np.array(\n",
    "  [X for _ in range(len(R) * M.shape[0])]\n",
    "), (len(R), M.shape[0]))\n",
    "\n",
    "np.cumsum(G, axis=0, out=G)\n",
    "\n",
    "print(G.shape)\n",
    "G"
   ]
  },
  {
   "cell_type": "code",
   "execution_count": 186,
   "metadata": {},
   "outputs": [
    {
     "name": "stdout",
     "output_type": "stream",
     "text": [
      "(5, 24)\n"
     ]
    }
   ],
   "source": [
    "USER_ = np.matmul(G, M)\n",
    "\n",
    "print(USER_.shape)"
   ]
  },
  {
   "cell_type": "code",
   "execution_count": null,
   "metadata": {},
   "outputs": [],
   "source": []
  },
  {
   "cell_type": "code",
   "execution_count": null,
   "metadata": {},
   "outputs": [],
   "source": []
  },
  {
   "cell_type": "code",
   "execution_count": null,
   "metadata": {},
   "outputs": [],
   "source": []
  },
  {
   "cell_type": "code",
   "execution_count": null,
   "metadata": {},
   "outputs": [],
   "source": []
  },
  {
   "cell_type": "code",
   "execution_count": null,
   "metadata": {},
   "outputs": [],
   "source": []
  },
  {
   "cell_type": "code",
   "execution_count": null,
   "metadata": {},
   "outputs": [],
   "source": []
  },
  {
   "cell_type": "code",
   "execution_count": null,
   "metadata": {},
   "outputs": [],
   "source": []
  },
  {
   "cell_type": "code",
   "execution_count": null,
   "metadata": {},
   "outputs": [],
   "source": []
  },
  {
   "cell_type": "code",
   "execution_count": 26,
   "metadata": {},
   "outputs": [
    {
     "name": "stdout",
     "output_type": "stream",
     "text": [
      "over nutrition\n"
     ]
    },
    {
     "data": {
      "text/plain": [
       "(False,\n",
       " 20,\n",
       " [17, 3, 3, 9, 12, 3, 18, 4, 21, 3, 9, 3, 15, 22, 14, 20, 11, 15, 4, 21, 5],\n",
       " water(g)           1220.27\n",
       " energy(kcal)       4310.00\n",
       " protein(g)          903.53\n",
       " fat(g)              160.37\n",
       " carb(g)             385.20\n",
       " fiber(g)             51.20\n",
       " sugar(g)            131.14\n",
       " calcium(mg)        1411.00\n",
       " iron(mg)             41.30\n",
       " magnesium(mg)       494.10\n",
       " phosphorus(mg)     3385.00\n",
       " potassium(mg)      3688.00\n",
       " sodium(mg)         3446.00\n",
       " zinc(mg)             36.06\n",
       " copper(mg)           70.52\n",
       " manganese(mg)        12.05\n",
       " selenium(ug)        257.20\n",
       " VC(mg)               69.23\n",
       " VB(mg)                3.08\n",
       " VA(ug)              125.00\n",
       " VD(ug)               11.90\n",
       " VK(ug)               43.90\n",
       " caffeine(mg)          0.00\n",
       " alcohol(mg)       69900.00\n",
       " dtype: float64)"
      ]
     },
     "execution_count": 26,
     "metadata": {},
     "output_type": "execute_result"
    }
   ],
   "source": [
    "import pandas as pd\n",
    "import warnings\n",
    "warnings.filterwarnings('ignore')\n",
    "\n",
    "\n",
    "# Load the data from the CSV file\n",
    "file_path = './data/food_nutrition.csv'\n",
    "nutrition_data = pd.read_csv(file_path)\n",
    "\n",
    "# Display the data to understand its structure and contents\n",
    "nutrition_data.head()\n",
    "nutrition_data.drop(['unit'], axis=1, inplace=True)       # drop the `unit` column\n",
    "nutrition_data = nutrition_data.reset_index(drop=True)\n",
    "\n",
    "\n",
    "# Separate the nutrition data for the foods and the lower/upper bounds\n",
    "food_nutrition = nutrition_data.iloc[2:]\n",
    "lower_bounds = nutrition_data.iloc[0, 1:]\n",
    "upper_bounds = nutrition_data.iloc[1, 1:]\n",
    "\n",
    "# Convert the bounds to a dataframe for easier manipulation\n",
    "bounds = pd.concat([lower_bounds, upper_bounds], axis=1).transpose()\n",
    "bounds.index = ['lower', 'upper']\n",
    "\n",
    "# Adjust the protein and fat bounds according to the given rules (body weight = 60kg)\n",
    "bounds.loc['lower', 'protein(g)'] *= 60  # Lower bound of protein\n",
    "bounds.loc['upper', 'protein(g)'] *= 60  # Upper bound of protein\n",
    "bounds.loc['lower', 'fat(g)'] = bounds.loc['lower', 'energy(kcal)'] * 0.20  # Lower bound of fat (20% of kcal)\n",
    "bounds.loc['upper', 'fat(g)'] = bounds.loc['upper', 'energy(kcal)'] * 0.35  # Upper bound of fat (35% of kcal)\n",
    "\n",
    "# Define the multipliers for each checkpoint based on the seconds passed\n",
    "checkpoints = [20, 40, 56, 68, 76]\n",
    "\n",
    "# Since the multipliers are not absolute and can be part of the value planning,\n",
    "# for now, we will create a basic function to update the bounds based on the current second\n",
    "def update_bounds(seconds, initial_bounds):\n",
    "    multiplier = 1\n",
    "    if seconds in checkpoints:\n",
    "        multiplier = seconds / 20\n",
    "    return initial_bounds * multiplier\n",
    "\n",
    "# Define a function to simulate the game\n",
    "def simulate_game(food_nutrition, bounds, checkpoints, total_seconds=120, weight=60):\n",
    "    # Initialize player's nutrition state\n",
    "    player_state = pd.Series(0, index=bounds.columns)\n",
    "    \n",
    "    # Initialize the checkpoints\n",
    "    checkpoint_bounds = {cp: update_bounds(cp, bounds) for cp in checkpoints}\n",
    "    \n",
    "    # Simulate the food generation and player's choices\n",
    "    foods_selected = []\n",
    "    for second in range(0, total_seconds):\n",
    "        # Randomly select a food every second\n",
    "        selected_food = food_nutrition.sample(n=1)\n",
    "        foods_selected.append(selected_food.index[0])\n",
    "        \n",
    "        # Update the player's nutrition state\n",
    "        for nutrient in player_state.index:\n",
    "            player_state[nutrient] += selected_food[nutrient].values[0]\n",
    "        \n",
    "        # Check the player's state at each checkpoint\n",
    "        if second in checkpoints:\n",
    "            for nutrient in player_state.index:\n",
    "                # If the player is outside the bounds, return failure and the second of failure\n",
    "                if player_state[nutrient] > checkpoint_bounds[second].loc['upper', nutrient]:\n",
    "                  print('over nutrition')\n",
    "                  return False, second, foods_selected, player_state\n",
    "                if player_state[nutrient] < checkpoint_bounds[second].loc['lower', nutrient]:\n",
    "                  print('mal nutrition')\n",
    "                  return False, second, foods_selected, player_state\n",
    "                \n",
    "                    \n",
    "    # If the player survives all checkpoints, return success\n",
    "    return True, total_seconds, foods_selected, player_state\n",
    "\n",
    "# Run the simulation once to test the setup\n",
    "simulate_game(food_nutrition, bounds, checkpoints)\n"
   ]
  },
  {
   "cell_type": "markdown",
   "metadata": {},
   "source": [
    "# 游戏营养成分线性规划分析\n",
    "\n",
    "在我们的游戏设计中，玩家需要在120秒内选择各种食物以满足特定的营养需求。每20秒，玩家的营养状态会进行一次检查，以确保所有营养成分都处于健康的范围内。我们使用线性规划来确定玩家在第20秒时可以选择的食物组合。\n",
    "\n",
    "## 线性规划设置\n",
    "\n",
    "### 变量定义\n",
    "\n",
    "- 设 \\( x_1, x_2, x_3, x_4 \\) 分别代表苹果、香蕉、牛油果、西瓜被选择的次数。\n",
    "\n",
    "### 约束条件\n",
    "\n",
    "* 对于每种营养成分，如能量（energy），苹果、香蕉、牛油果、西瓜的能量值分别为 \\( e_1, e_2, e_3, e_4 \\)。则他们的线性组合 \\( e_1x_1 + e_2x_2 + e_3x_3 + e_4x_4 \\) 必须满足在第20秒的能量下限 \\( L_e \\) 和上限 \\( U_e \\) 之间。\n",
    "- 类似的约束需要为所有24种营养成分设置。\n",
    "\n",
    "### 目标函数\n",
    "\n",
    "- 因为我们的目标是找到任何满足所有约束条件的食物组合，我们可以简单地设置目标函数为 \\( x_1 + x_2 + x_3 + x_4 \\)，表示食物选择的总次数。实际上，这个目标函数在这里不是最优化的目标，而是用于找到一个可行解。\n",
    "\n",
    "## 求解过程\n",
    "\n",
    "使用`scipy.optimize.linprog`方法，我们提供了上述变量、约束条件和目标函数来求解线性规划问题。求解过程如下：\n",
    "\n",
    "1. 从食物营养数据库中提取约束系数。\n",
    "2. 根据20秒检查点的营养成分下限和上限设置约束条件。\n",
    "3. 定义每种食物选择次数的变量范围。\n",
    "4. 执行线性规划求解。\n",
    "\n",
    "## 结果分析\n",
    "\n",
    "线性规划求解结果表明，在当前的游戏数值设定下，没有可行的解决方案。这意味着玩家无法在第20秒时达到所有营养成分的健康范围。因此，我们需要对游戏的数值设计进行调整，以确保至少存在一个可行的解决方案，让玩家有机会成功通过第20秒的营养检查。\n"
   ]
  },
  {
   "cell_type": "code",
   "execution_count": 27,
   "metadata": {},
   "outputs": [
    {
     "data": {
      "text/plain": [
       "(False,\n",
       " None,\n",
       " 'The problem is infeasible. (HiGHS Status 8: model_status is Infeasible; primal_status is At lower/fixed bound)')"
      ]
     },
     "execution_count": 27,
     "metadata": {},
     "output_type": "execute_result"
    }
   ],
   "source": [
    "import numpy as np\n",
    "from scipy.optimize import linprog\n",
    "\n",
    "# Get the bounds for the 20-second checkpoint\n",
    "bounds_20 = update_bounds(20, bounds)\n",
    "\n",
    "# Extract the nutritional information of each food for the linear programming constraints\n",
    "food_constraints = food_nutrition.set_index('name').T\n",
    "\n",
    "# The lower and upper bounds for the nutritional information at the 20-second checkpoint\n",
    "lower_bounds_20 = bounds_20.loc['lower']\n",
    "upper_bounds_20 = bounds_20.loc['upper']\n",
    "\n",
    "# The number of selections of each food is our variable, which cannot be negative\n",
    "x_bounds = [(0, None) for _ in range(len(food_nutrition))]\n",
    "\n",
    "# The objective function is arbitrary since we just want to find a feasible solution\n",
    "# Here we use a vector of ones to simply sum the selections, but the actual values do not matter\n",
    "c = [1 for _ in range(len(food_nutrition))]\n",
    "\n",
    "# The constraints are that for each nutrient, the total amount must be between the lower and upper bounds\n",
    "A = food_constraints.values  # Coefficients for the constraints\n",
    "b_lower = lower_bounds_20.values  # Lower bounds for the constraints\n",
    "b_upper = upper_bounds_20.values  # Upper bounds for the constraints\n",
    "\n",
    "# The bounds are set in a way that the total for each nutrient must be less than the upper bound and more than the lower bound\n",
    "# We create two sets of constraints: one for the lower bound and one for the upper bound\n",
    "A_ub = A  # Coefficients for the upper bound constraints\n",
    "b_ub = b_upper  # Right-hand side for the upper bound constraints\n",
    "\n",
    "A_lb = -A  # Coefficients for the lower bound constraints (negated to convert to <= form)\n",
    "b_lb = -b_lower  # Right-hand side for the lower bound constraints (negated to convert to <= form)\n",
    "\n",
    "# Combine the upper and lower bound constraints\n",
    "A_combined = np.vstack([A_ub, A_lb])\n",
    "b_combined = np.concatenate([b_ub, b_lb])\n",
    "\n",
    "# Solve the linear programming problem\n",
    "result = linprog(c, A_ub=A_combined, b_ub=b_combined, bounds=x_bounds, method='highs')\n",
    "\n",
    "result_x = result.x if result.success else None\n",
    "result_message = result.message\n",
    "\n",
    "(result.success, result_x, result_message)\n"
   ]
  },
  {
   "cell_type": "code",
   "execution_count": null,
   "metadata": {},
   "outputs": [],
   "source": []
  },
  {
   "cell_type": "code",
   "execution_count": null,
   "metadata": {},
   "outputs": [],
   "source": []
  }
 ],
 "metadata": {
  "kernelspec": {
   "display_name": "base",
   "language": "python",
   "name": "python3"
  },
  "language_info": {
   "codemirror_mode": {
    "name": "ipython",
    "version": 3
   },
   "file_extension": ".py",
   "mimetype": "text/x-python",
   "name": "python",
   "nbconvert_exporter": "python",
   "pygments_lexer": "ipython3",
   "version": "3.9.18"
  }
 },
 "nbformat": 4,
 "nbformat_minor": 2
}
