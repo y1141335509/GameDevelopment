{
 "cells": [
  {
   "cell_type": "code",
   "execution_count": null,
   "metadata": {},
   "outputs": [],
   "source": []
  },
  {
   "cell_type": "code",
   "execution_count": null,
   "metadata": {},
   "outputs": [],
   "source": []
  },
  {
   "cell_type": "code",
   "execution_count": null,
   "metadata": {},
   "outputs": [],
   "source": []
  },
  {
   "cell_type": "markdown",
   "metadata": {},
   "source": [
    "## 尝试整数线性规划"
   ]
  },
  {
   "cell_type": "code",
   "execution_count": 34,
   "metadata": {},
   "outputs": [
    {
     "name": "stdout",
     "output_type": "stream",
     "text": [
      "F:  (25, 24)\n",
      "L and U:  (24,) (24,)\n",
      "找到最优解\n",
      "0 个 food_watermelon\n",
      "0 个 food_apple\n",
      "0 个 food_banana\n",
      "0 个 food_avocado\n",
      "0 个 food_broccoli\n",
      "71 个 food_pink_salmon\n",
      "0 个 food_Chicken;_broilers_or_fryers;_leg;_meat_and_skin;_raw\n",
      "0 个 food_Beef;_ribeye_cap_steak;_boneless;_separable_lean_only;_trimmed_to_0\"_fat;_choice;_raw\n",
      "0 个 food_arugula\n",
      "2 个 food_Bread;_whole_wheat;_commercially_prepared;_toasted\n",
      "0 个 food_egg\n",
      "63 个 food_Corn;_sweet;_white;_raw\n",
      "0 个 food_Alcoholic_beverage;_beer;_light\n",
      "1 个 food_Alcoholic_beverage;_distilled;_vodka;_80_proof\t\n",
      "1 个 food_Beverages;_coffee;_brewed;_espresso;_restaurant_prepared\n",
      "0 个 food_Rice_noodles;_cooked\n",
      "0 个 food_Rice_and_vermicelli_mix;_rice_pilaf_flavor;_unprepared\n",
      "63 个 food_Beverages;_rice_milk;_unsweetened\n",
      "0 个 food_Yogurt;_plain;_whole_milk\n",
      "17 个 food_Tofu;_dried_frozen_(koyadofu)\n",
      "0 个 food_Bread;_cornbread;_dry_mix;_enriched_(includes_corn_muffin_mix)\n",
      "27 个 food_Oil;_corn;_peanut;_and_olive\n",
      "17 个 food_mango\n",
      "8 个 food_cilantro_leaves;_raw\n",
      "0 个 food_sugar\n"
     ]
    }
   ],
   "source": [
    "import numpy as np\n",
    "import pulp\n",
    "import pandas as pd\n",
    "import warnings\n",
    "warnings.filterwarnings('ignore')\n",
    "\n",
    "# Load the data from the CSV file\n",
    "file_path = './data/food_nutrition.csv'\n",
    "nutrition_data = pd.read_csv(file_path)\n",
    "\n",
    "# Display the data to understand its structure and contents\n",
    "food_names = nutrition_data['name'].tolist()\n",
    "nutrition_data.drop(['unit'], axis=1, inplace=True)       # drop the `unit` column\n",
    "nutrition_data = nutrition_data.reset_index(drop=True)\n",
    "\n",
    "# Separate the nutrition data for the foods and the lower/upper bounds\n",
    "food_nutrition = nutrition_data.iloc[2:]\n",
    "lower_bounds = nutrition_data.iloc[0, 1:]\n",
    "upper_bounds = nutrition_data.iloc[1, 1:]\n",
    "\n",
    "# Protein的上下限与WEIGHT有关 => WEIGHT * [.8, 2]\n",
    "# Fat的上下限与energy有关 => energy * [0.2, 0.35]\n",
    "WEIGHT = 60             # 60kg body weight\n",
    "lower_bounds[2] *= WEIGHT\n",
    "upper_bounds[2] *= WEIGHT\n",
    "lower_bounds[3] = lower_bounds[1] * 0.2\n",
    "upper_bounds[3] = upper_bounds[1] * 0.35\n",
    "\n",
    "\n",
    "YEAR = 20\n",
    "\n",
    "# 示例数据\n",
    "# F: 食物中的营养成分矩阵\n",
    "# L: 营养成分的最小需求\n",
    "# U: 营养成分的最大限制\n",
    "# 假设 F 是食物和营养成分的矩阵，L 和 U 分别是营养成分的下界和上界\n",
    "F = food_nutrition.drop(['name'], axis=1).to_numpy() * 365 \n",
    "print('F: ', F.shape)\n",
    "\n",
    "SCALAR1, SCALAR2 = 0.75, 1.1    # 用来调整上下界\n",
    "L = lower_bounds.to_numpy() * SCALAR1 * YEAR * 365  \n",
    "U = upper_bounds.to_numpy() * SCALAR2 * YEAR * 365\n",
    "print('L and U: ', L.shape, U.shape)\n",
    "\n",
    "\n",
    "# 创建线性规划问题\n",
    "lp_prob = pulp.LpProblem(\"Nutrition_Optimization\", pulp.LpMinimize)\n",
    "\n",
    "# 创建变量\n",
    "n_foods = F.shape[0]\n",
    "food_vars = [pulp.LpVariable(f'food_{food_names[i+2]}', lowBound=0, cat='Integer') for i in range(n_foods)]\n",
    "\n",
    "# 目标函数：最小化食物数量\n",
    "lp_prob += pulp.lpSum(food_vars)\n",
    "\n",
    "# 添加营养成分的约束\n",
    "for j in range(F.shape[1]):\n",
    "    lp_prob += pulp.lpSum(F[i][j] * food_vars[i] for i in range(n_foods)) >= L[j]\n",
    "    lp_prob += pulp.lpSum(F[i][j] * food_vars[i] for i in range(n_foods)) <= U[j]\n",
    "\n",
    "# 求解问题\n",
    "lp_prob.solve(pulp.PULP_CBC_CMD(msg=0))\n",
    "\n",
    "\n",
    "# 打印结果\n",
    "if pulp.LpStatus[lp_prob.status] == 'Optimal':\n",
    "    print(\"找到最优解\")\n",
    "    for var in food_vars:\n",
    "        print(int(var.varValue), \"个\", var.name)\n",
    "else:\n",
    "    print(\"无法找到最优解\")"
   ]
  },
  {
   "cell_type": "code",
   "execution_count": null,
   "metadata": {},
   "outputs": [],
   "source": []
  },
  {
   "cell_type": "code",
   "execution_count": null,
   "metadata": {},
   "outputs": [],
   "source": []
  },
  {
   "cell_type": "code",
   "execution_count": null,
   "metadata": {},
   "outputs": [],
   "source": []
  },
  {
   "cell_type": "code",
   "execution_count": null,
   "metadata": {},
   "outputs": [],
   "source": []
  },
  {
   "cell_type": "code",
   "execution_count": null,
   "metadata": {},
   "outputs": [],
   "source": []
  },
  {
   "cell_type": "code",
   "execution_count": null,
   "metadata": {},
   "outputs": [],
   "source": []
  },
  {
   "cell_type": "code",
   "execution_count": null,
   "metadata": {},
   "outputs": [],
   "source": []
  },
  {
   "cell_type": "code",
   "execution_count": null,
   "metadata": {},
   "outputs": [],
   "source": []
  },
  {
   "cell_type": "code",
   "execution_count": null,
   "metadata": {},
   "outputs": [],
   "source": []
  },
  {
   "cell_type": "code",
   "execution_count": null,
   "metadata": {},
   "outputs": [],
   "source": []
  },
  {
   "cell_type": "code",
   "execution_count": null,
   "metadata": {},
   "outputs": [],
   "source": []
  }
 ],
 "metadata": {
  "kernelspec": {
   "display_name": "base",
   "language": "python",
   "name": "python3"
  },
  "language_info": {
   "codemirror_mode": {
    "name": "ipython",
    "version": 3
   },
   "file_extension": ".py",
   "mimetype": "text/x-python",
   "name": "python",
   "nbconvert_exporter": "python",
   "pygments_lexer": "ipython3",
   "version": "3.9.18"
  }
 },
 "nbformat": 4,
 "nbformat_minor": 2
}
